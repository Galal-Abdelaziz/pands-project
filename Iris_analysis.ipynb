{
 "cells": [
  {
   "cell_type": "markdown",
   "metadata": {},
   "source": [
    "# Irish Data set analysis\n",
    "\n",
    "Author: Galal Abdelaziz\n",
    "\n",
    "This notebook presents my analysis of the well-known [Fisher’s Iris dataset](https://archive.ics.uci.edu/dataset/53/iris) for the Programming and Scripting module project.\n",
    "\n",
    "***\n",
    "\n",
    "![Banner](img/Iris.png)\n",
    "\n",
    "***\n",
    "\n",
    "## Introduction:\n",
    "\n",
    "The __Iris dataset__ is one of the most well-known and commonly used datasets in the field of machine learning and statistics. Here's an overview:\n",
    "\n",
    "* The Iris dataset consists of __150 samples__ of iris flowers from three different species: __Setosa__, __Versicolor__, and __Virginica__.\n",
    "\n",
    "* Each sample includes __four features__:\n",
    "\n",
    "    * __Sepal length__: The length of the iris flower’s sepals (the green leaf-like structures that encase the flower bud).\n",
    "    * __Sepal width__: The width of the iris flower’s sepals.\n",
    "    * __Petal length__: The length of the iris flower’s petals (the colored structures of the flower).\n",
    "    * __Petal width__: The width of the iris flower’s petals.\n",
    "\n",
    "* Species in the Iris Dataset:\n",
    "\n",
    "The target variable represents the species of the iris flower and has three classes:\n",
    "\n",
    "* __Iris Setosa__: Characterized by its relatively small size, with distinctive characteristics in sepal and petal dimensions.\n",
    "* __Iris Versicolor__: Moderate in size, with features falling between those of Iris setosa and Iris virginica.\n",
    "* __Iris Virginica__: Generally larger in size, with notable differences in sepal and petal dimensions compared to the other two species.\n",
    "\n",
    "* Notes:\n",
    "\n",
    "    * The dataset was introduced by the British biologist and statistician __Ronald Fisher__ in 1936 as an example of __discriminant analysis__.\n",
    "    * Researchers and data scientists use the features of the iris flowers to classify each sample into one of the three species.\n",
    "    * The dataset is particularly popular due to its __simplicity__ and the __clear separation__ of the different species based on the provided features.\n",
    "\n",
    "* Historical Context:\n",
    "\n",
    "    * The Iris dataset played a foundational role in statistical analysis and machine learning.\n",
    "    * Ronald Fisher’s work on the dataset paved the way for the development of many classification algorithms still in use today.\n",
    "    * It continues to be a benchmark for testing new machine learning models.\n",
    "\n",
    "* Role in Machine Learning:\n",
    "\n",
    "    * The Iris dataset serves as a standard benchmark for testing __classification algorithms__.\n",
    "    * Researchers use it to compare the performance of different algorithms and evaluate their accuracy, precision, and recall.\n",
    "\n",
    "***\n",
    "\n",
    "## Variables: \n",
    "\n",
    "The Iris dataset contains two types of variables:\n",
    "\n",
    "* Numeric Variables:\n",
    "\n",
    "    * Sepal length.\n",
    "    * Sepal width.\n",
    "    * Petal length.\n",
    "    * Petal width.\n",
    "\n",
    "* Categorical Variable:\n",
    "    * The only categorical variable in the dataset is the variety/species of iris flowers. It includes three classes:\n",
    "\n",
    "        * Setosa.\n",
    "        * Versicolor.\n",
    "        * Virginica.\n",
    "\n",
    "***"
   ]
  },
  {
   "cell_type": "markdown",
   "metadata": {},
   "source": [
    "## Analysis "
   ]
  },
  {
   "cell_type": "markdown",
   "metadata": {},
   "source": [
    "\n",
    "![Pie](Program_run_results/number_of_samples.png)\n"
   ]
  },
  {
   "cell_type": "markdown",
   "metadata": {},
   "source": [
    "### The pie chart illustrates an equal distribution between all three species (50 each)."
   ]
  },
  {
   "cell_type": "markdown",
   "metadata": {},
   "source": [
    "![Histogram](Program_run_results/variable_histograms.png)"
   ]
  },
  {
   "cell_type": "markdown",
   "metadata": {},
   "source": [
    "### The histogram illustrates the following:\n",
    "\n",
    "* The distribution of the values of each feature across all samples.\n",
    "* There's significant overlap between Sepal Length and Sepal Width histograms, while minimal overlap is observed in the Petal Length and Petal Width graphs."
   ]
  },
  {
   "cell_type": "markdown",
   "metadata": {},
   "source": [
    "![Scatterplots](Program_run_results/variable_scatterplots.png)"
   ]
  },
  {
   "cell_type": "markdown",
   "metadata": {},
   "source": [
    "### The scatter plot depicts the following:\n",
    "\n",
    "* __Species Clusters__: Some species distinctly group together based on specific features, like petal length and width distinguishing Iris setosa from Iris versicolor and Iris virginica.\n",
    "* __Feature Relationships__: These plots reveal correlations between features, like the positive relationship between petal length and width.\n",
    "* __Outliers__: Scatter plots aid in identifying outliers, data points that significantly deviate from others.\n",
    "* __Notes__:\n",
    "    * The graph visualizes the relationships between the various pairs of features in the Iris dataset.\n",
    "    * Since plotting a feature against itself would not be informative, these plots are replaced with histograms."
   ]
  },
  {
   "cell_type": "markdown",
   "metadata": {},
   "source": [
    "![Correlation](Program_run_results/variable_correlation_matrix.png)"
   ]
  },
  {
   "cell_type": "markdown",
   "metadata": {},
   "source": [
    "### The heat map shows the following:\n",
    "\n",
    "* The data analysis reveals strong correlations between the following: \n",
    "    * Petal Width and Petal Length.\n",
    "    * Petal Length and Sepal Length.\n",
    "    * Petal Width and Sepal Length.\n",
    "    \n",
    "* A strong positive correlation is typically observed between petal length and petal width across all species, suggesting that as one increases, the other tends to as well.\n",
    "* Sepal measurements also show correlations, albeit typically weaker than those of petals."
   ]
  },
  {
   "cell_type": "markdown",
   "metadata": {},
   "source": [
    "![sepal_length_vs_sepal_width](Program_run_results/sepal_length_vs_sepal_width.png)"
   ]
  },
  {
   "cell_type": "markdown",
   "metadata": {},
   "source": [
    "### The scatter plot depicts the following:\n",
    "\n",
    "* The Setosa species features shorter sepal lengths alongside wider sepal widths.\n",
    "* The Versicolor species displays sepal dimensions that are intermediate, with moderate lengths and widths.\n",
    "* The Virginica species is distinguished by longer sepal lengths and narrower sepal widths."
   ]
  },
  {
   "cell_type": "markdown",
   "metadata": {},
   "source": [
    "![petal_length_vs_petal_width](Program_run_results/petal_length_vs_petal_width.png)"
   ]
  },
  {
   "cell_type": "markdown",
   "metadata": {},
   "source": [
    "### The scatter plot depicts the following:\n",
    "\n",
    "* The Setosa species features smaller petal lengths and widths.\n",
    "* The Versicolor species displays petal dimensions that are intermediate, with moderate lengths and widths.\n",
    "* The Virginica species is distinguished by the largest petal lengths and widths.\n",
    "* There is a strong correlation between petal length and width within each species.\n",
    "\n",
    "***"
   ]
  },
  {
   "cell_type": "markdown",
   "metadata": {},
   "source": [
    "## Analysis Key Findings:\n",
    "\n",
    "* Distribution:\n",
    "\n",
    "    * The data set have equal distribution between all three species (50 each).\n",
    "    \n",
    "* Species Separation:\n",
    "\n",
    "    * The dataset exhibits clear separation between the three iris species: Setosa, Versicolor, and Virginica.\n",
    "    * Visualizing the feature distributions (such as sepal length vs. sepal width or petal length vs. petal width) reveals distinct clusters for each species.\n",
    "\n",
    "* Feature Importance:\n",
    "\n",
    "    * Petal dimensions (length and width) play a crucial role in species differentiation.\n",
    "    * Setosa has the smallest petals, while Virginica has the largest.\n",
    "    * Sepal dimensions are less discriminative but still contribute to species classification.\n",
    "\n",
    "* Scatter Plots:\n",
    "\n",
    "    * Scatter plots of petal length vs. petal width show clear boundaries between species.\n",
    "    * Setosa has the smallest petals, forming a tight cluster.\n",
    "    * Versicolor and Virginica overlap more, but their petal dimensions still allow separation.\n",
    "\n",
    "* Relationships:\n",
    "\n",
    "    * The data analysis reveals strong correlations between the following:\n",
    "    \n",
    "         * Petal Width and Petal Length.\n",
    "         * Petal Length and Sepal Length.\n",
    "         * Petal Width and Sepal Length., aiding in species classification.\n",
    "\n",
    "* Outlier Detection: \n",
    "\n",
    "    * Some outliers are present, potentially indicating unique or anomalous specimens within the dataset.\n",
    "\n",
    "***"
   ]
  },
  {
   "cell_type": "markdown",
   "metadata": {},
   "source": [
    "## End"
   ]
  }
 ],
 "metadata": {
  "language_info": {
   "name": "python"
  }
 },
 "nbformat": 4,
 "nbformat_minor": 2
}
